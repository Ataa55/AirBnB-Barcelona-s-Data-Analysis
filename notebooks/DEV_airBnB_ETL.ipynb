{
 "cells": [
  {
   "cell_type": "code",
   "execution_count": 36,
   "id": "84e9e0ec-bcfb-47f9-98b0-e80f6e0bd353",
   "metadata": {},
   "outputs": [],
   "source": [
    "from sqlalchemy import create_engine, exc\n",
    "import pandas as pd\n",
    "from utils import *\n",
    "import datetime\n",
    "import config\n",
    "import time"
   ]
  },
  {
   "cell_type": "code",
   "execution_count": 2,
   "id": "43ef60fb-7009-40a7-8aea-9817f2f8b752",
   "metadata": {},
   "outputs": [],
   "source": [
    "## Glopal  variables\n",
    "months = config.MONTHS\n",
    "postgres = config.POSTGRS_CREDENTIALS\n",
    "data_cols = config.DATA_COLS\n",
    "dims = config.DWH_DIMS_FACTS"
   ]
  },
  {
   "cell_type": "code",
   "execution_count": 41,
   "id": "fe8bd2d7-ebed-4688-9eaf-d7433562192a",
   "metadata": {},
   "outputs": [],
   "source": [
    "## utils\n",
    "def select_dim(df, dims, dim_name):\n",
    "    \n",
    "    df_dim = df[dims[dim_name]]\n",
    "    return df_dim\n",
    "\n",
    "\n",
    "def convert_to_neumeric(df,cols):\n",
    "    \n",
    "    for col in cols:\n",
    "        df[col] = pd.to_numeric(df[col], errors='coerce')\n",
    "    df[cols] = df[cols].fillna(0)\n",
    "    return df\n",
    "\n",
    "\n",
    "def convert_to_date(df,cols):\n",
    "    \n",
    "    default_date = pd.Timestamp('1900-01-01')\n",
    "    for col in cols:\n",
    "        df[col] = pd.to_datetime(df[col], errors='coerce')\n",
    "        df[col] = df[col].fillna(default_date)\n",
    "    return df\n",
    "\n",
    "\n",
    "def convert_to_string(df, cols):\n",
    "    \n",
    "    df[cols] = df[cols].astype(str).fillna(\"N/A\")\n",
    "    return df\n",
    "\n",
    "\n",
    "def connect_to_db(postgres_cred):\n",
    "    \n",
    "    engine = create_engine(f'postgresql://{postgres[\"USER\"]}:{postgres[\"PASSWORD\"]}@{postgres[\"HOST\"]}:{postgres[\"PORT\"]}/{postgres[\"db\"]}')\n",
    "    try:\n",
    "        with engine.connect() as conn:             \n",
    "            print(f\"succefuly connected to {postgres['db']} at host: {postgres['HOST']}\")\n",
    "        return engine\n",
    "        \n",
    "    except exc.SQLAlchemyError as e:\n",
    "        print(f\"connection failed !\")\n",
    "        print(f\"Error {e}\")\n",
    "\n",
    "\n",
    "def write_df_to_db(df, table_name, engine):\n",
    "    \n",
    "    try:\n",
    "        print(f\"start writing data to {table_name}\")\n",
    "        start_time  = time.time() \n",
    "        dim_host_df.to_sql(name = table_name, con = engine, if_exists='append', index=False, method = \"multi\", chunksize=1000)\n",
    "        end_time  = time.time() \n",
    "        print(f\"Data Successfully written to the {table_name} table\")\n",
    "        print(f\"the proccess toke {end_time - start_time} seconds\")\n",
    "    \n",
    "    except exc.SQLAlchemyError as e:\n",
    "        print(f\"failed to write data to {table_name} table\")\n",
    "        print(f\"Error: {e}\")\n",
    "\n",
    "    except ValueError as ve:\n",
    "        print(f\"ValueError occured during the write process\")\n",
    "        print(f\"Error: {ve}\")\n",
    "    \n",
    "    except Exception as ex:\n",
    "        print(f\"An expected error occured\")\n",
    "        print(f\"Error: {ex}\")\n",
    "    \n",
    "\n",
    "def finalize_things(engine):\n",
    "    engine.dispose()\n",
    "    print(\"engine disposed and connection closed successfully\")"
   ]
  },
  {
   "cell_type": "code",
   "execution_count": 25,
   "id": "2401f5e6-3d1e-4115-a178-a528caba1356",
   "metadata": {
    "scrolled": true
   },
   "outputs": [
    {
     "name": "stderr",
     "output_type": "stream",
     "text": [
      "/tmp/ipykernel_143/651951672.py:7: FutureWarning: The behavior of DataFrame concatenation with empty or all-NA entries is deprecated. In a future version, this will no longer exclude empty or all-NA columns when determining the result dtypes. To retain the old behavior, exclude the relevant entries before the concat operation.\n",
      "  df_total = pd.concat([df_total, df_source], axis=0, ignore_index=True)\n"
     ]
    },
    {
     "name": "stdout",
     "output_type": "stream",
     "text": [
      ">>>>>>> month jan appended the dataframe\n",
      "Now the dataframe shape is (51221, 80)\n",
      ">>>>>>> month March appended the dataframe\n",
      "Now the dataframe shape is (96193, 80)\n",
      ">>>>>>> month November appended the dataframe\n",
      "Now the dataframe shape is (144409, 80)\n"
     ]
    }
   ],
   "source": [
    "df_total = pd.DataFrame(columns=data_cols)\n",
    "\n",
    "for month in months:\n",
    "    path = f\"/home/jovyan/Data/{month}/listings (1).csv\"\n",
    "    df_source = pd.read_csv(path, low_memory=False)\n",
    "    df_source = df_source[data_cols].dropna(how='all')\n",
    "    df_total = pd.concat([df_total, df_source], axis=0, ignore_index=True)\n",
    "    print(f\">>>>>>> month {month} appended the dataframe\")\n",
    "    print(f\"Now the dataframe shape is {df_total.shape}\")"
   ]
  },
  {
   "cell_type": "code",
   "execution_count": 26,
   "id": "fa6de565-c596-4aa7-b6d1-a9294be540d9",
   "metadata": {},
   "outputs": [],
   "source": [
    "df_total[\"price\"] = df_total[[\"price\"]].replace({'\\$': '', ',': ''}, regex=True)\n",
    "df_total = convert_to_neumeric(df_total, [\"host_total_listings_count\", \"price\", \"accommodates\", \n",
    "                                          \"bathrooms\", \"bedrooms\", \"beds\", \"latitude\",\n",
    "                                          \"longitude\", \"maximum_nights\", \"minimum_nights\",\n",
    "                                          \"number_of_reviews\",\"availability_30\",\"availability_60\",\n",
    "                                          \"availability_90\",\"availability_365\"])\n",
    "df_total = convert_to_string(df_total, [\"host_name\", \"host_url\", \"host_response_rate\",\n",
    "                                        \"host_verifications\", \"host_location\", \"neighbourhood\",\n",
    "                                        \"region_name\", \"region_parent_name\", \n",
    "                                        \"region_parent_parent_name\", \"property_type\", \n",
    "                                        \"room_type\"])\n",
    "\n",
    "df_total = convert_to_date(df_total, [\"host_since\"])"
   ]
  },
  {
   "cell_type": "code",
   "execution_count": 27,
   "id": "487d799f-f76d-4fb9-8e85-1d363ef63037",
   "metadata": {},
   "outputs": [],
   "source": [
    "dim_host_df = select_dim(df_total, dims, \"dim_host\")\n",
    "dim_host_df = dim_host_df.dropna(subset= [\"host_id\"])\n",
    "dim_location_df = select_dim(df_total, dims, \"dim_location\")\n",
    "dim_property_df = select_dim(df_total, dims, \"dim_property\")"
   ]
  },
  {
   "cell_type": "code",
   "execution_count": 47,
   "id": "77097842-f9ec-4b23-8713-435f0d445241",
   "metadata": {},
   "outputs": [
    {
     "name": "stdout",
     "output_type": "stream",
     "text": [
      "succefuly connected to airBnB_DWH at host: pgdatabase\n",
      "start writing data to dim_host\n",
      "Data Successfully written to the dim_host table\n",
      "the proccess toke 29.287771701812744 seconds\n"
     ]
    }
   ],
   "source": [
    "engine = connect_to_db(postgres)\n",
    "write_df_to_db(dim_host_df, \"dim_host\", engine)"
   ]
  },
  {
   "cell_type": "code",
   "execution_count": 16,
   "id": "91096b8a-b002-456e-8575-471839253562",
   "metadata": {},
   "outputs": [],
   "source": [
    "df_room = df_total[[\"property_type\"]].drop_duplicates()"
   ]
  },
  {
   "cell_type": "code",
   "execution_count": 48,
   "id": "ac8be58d-8d59-43db-b0bb-9a67832a48f5",
   "metadata": {},
   "outputs": [
    {
     "name": "stdout",
     "output_type": "stream",
     "text": [
      "engine disposed and connection closed successfully\n"
     ]
    }
   ],
   "source": [
    "finalize_things(engine)"
   ]
  },
  {
   "cell_type": "code",
   "execution_count": 16,
   "id": "147bbb54-f194-496e-8aa7-16abbfe957e0",
   "metadata": {},
   "outputs": [],
   "source": [
    "engine = create_engine(f'postgresql://{postgres[\"USER\"]}:{postgres[\"PASSWORD\"]}@{postgres[\"HOST\"]}:{postgres[\"PORT\"]}/{postgres[\"db\"]}')"
   ]
  },
  {
   "cell_type": "code",
   "execution_count": 40,
   "id": "9c713d00-9ddf-4009-b382-5ffa07e1c1a1",
   "metadata": {},
   "outputs": [
    {
     "data": {
      "text/plain": [
       "408"
      ]
     },
     "execution_count": 40,
     "metadata": {},
     "output_type": "execute_result"
    }
   ],
   "source": [
    "dim_host_df.to_sql('dim_host', engine, if_exists='append', index=False)"
   ]
  },
  {
   "cell_type": "code",
   "execution_count": 18,
   "id": "c101aea9-cccc-42b6-b111-590c63dc5485",
   "metadata": {},
   "outputs": [
    {
     "data": {
      "text/plain": [
       "409"
      ]
     },
     "execution_count": 18,
     "metadata": {},
     "output_type": "execute_result"
    }
   ],
   "source": [
    "dim_location_df.to_sql('dim_location', engine, if_exists='append', index=False)"
   ]
  },
  {
   "cell_type": "code",
   "execution_count": 19,
   "id": "cf06729d-ce03-45c6-aec5-1a79c3f6c7ef",
   "metadata": {},
   "outputs": [
    {
     "data": {
      "text/plain": [
       "409"
      ]
     },
     "execution_count": 19,
     "metadata": {},
     "output_type": "execute_result"
    }
   ],
   "source": [
    "dim_property_df.to_sql('dim_property', engine, if_exists='append', index=False)"
   ]
  },
  {
   "cell_type": "code",
   "execution_count": 30,
   "id": "00428356-9c45-48fb-8617-4c45b54bff2a",
   "metadata": {},
   "outputs": [
    {
     "data": {
      "text/plain": [
       "host_id                              object\n",
       "host_name                            object\n",
       "host_url                             object\n",
       "host_since                   datetime64[ns]\n",
       "host_about                           object\n",
       "host_response_rate                   object\n",
       "host_total_listings_count            object\n",
       "host_verifications                   object\n",
       "host_identity_verified               object\n",
       "accommodates                         object\n",
       "bathrooms                            object\n",
       "bedrooms                             object\n",
       "beds                                 object\n",
       "dtype: object"
      ]
     },
     "execution_count": 30,
     "metadata": {},
     "output_type": "execute_result"
    }
   ],
   "source": [
    "df_total['host_since'] = pd.to_datetime(df_total['host_since'], errors='coerce')\n",
    "dim_host_df.dtypes"
   ]
  },
  {
   "cell_type": "code",
   "execution_count": 36,
   "id": "1da6c0eb-7c1d-400a-8a5d-88a3ebc5097f",
   "metadata": {},
   "outputs": [
    {
     "data": {
      "text/plain": [
       "host_id                              object\n",
       "host_name                            object\n",
       "host_url                             object\n",
       "host_since                   datetime64[ns]\n",
       "host_about                           object\n",
       "host_response_rate                   object\n",
       "host_total_listings_count           float64\n",
       "host_verifications                   object\n",
       "host_identity_verified               object\n",
       "accommodates                        float64\n",
       "bathrooms                           float64\n",
       "bedrooms                            float64\n",
       "beds                                float64\n",
       "dtype: object"
      ]
     },
     "execution_count": 36,
     "metadata": {},
     "output_type": "execute_result"
    }
   ],
   "source": [
    "dim_host_df.dtypes"
   ]
  },
  {
   "cell_type": "code",
   "execution_count": null,
   "id": "04c43450-e16a-4b4b-97dd-6e90ecabe467",
   "metadata": {},
   "outputs": [],
   "source": [
    "dim_host_df.dtypes"
   ]
  },
  {
   "cell_type": "code",
   "execution_count": null,
   "id": "c8063d9b-9cf9-485c-9876-f95ed1a45586",
   "metadata": {},
   "outputs": [],
   "source": [
    "dim_host_df[dim_host_df[\"host_id\"].isnull()]"
   ]
  },
  {
   "cell_type": "code",
   "execution_count": null,
   "id": "c1973153-071e-4120-9acb-b9659e1b8a46",
   "metadata": {},
   "outputs": [],
   "source": [
    "df_total = df_total[df_total[\"host_total_listings_count\"]!=\"f\"]"
   ]
  },
  {
   "cell_type": "code",
   "execution_count": null,
   "id": "39766431-7978-4176-87b3-25d3145370d9",
   "metadata": {},
   "outputs": [],
   "source": [
    "dim_host_df"
   ]
  },
  {
   "cell_type": "code",
   "execution_count": null,
   "id": "61ab0b9a-1548-4dfd-9e5a-4a8762abf8f0",
   "metadata": {},
   "outputs": [],
   "source": [
    "df_total[\"price\"]"
   ]
  },
  {
   "cell_type": "code",
   "execution_count": null,
   "id": "5bbb8aaa-9047-4d34-ad20-bfca93b6ee40",
   "metadata": {},
   "outputs": [],
   "source": [
    "df_total[\"price\"] "
   ]
  },
  {
   "cell_type": "code",
   "execution_count": null,
   "id": "573f5109-913a-4565-a75b-28320a4a68df",
   "metadata": {},
   "outputs": [],
   "source": [
    "\", \".join([col for col in df_total.columns if col.startswith(\"availability\")])"
   ]
  }
 ],
 "metadata": {
  "kernelspec": {
   "display_name": "Python 3 (ipykernel)",
   "language": "python",
   "name": "python3"
  },
  "language_info": {
   "codemirror_mode": {
    "name": "ipython",
    "version": 3
   },
   "file_extension": ".py",
   "mimetype": "text/x-python",
   "name": "python",
   "nbconvert_exporter": "python",
   "pygments_lexer": "ipython3",
   "version": "3.11.6"
  }
 },
 "nbformat": 4,
 "nbformat_minor": 5
}
