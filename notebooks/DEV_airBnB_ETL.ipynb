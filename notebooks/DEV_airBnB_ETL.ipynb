{
 "cells": [
  {
   "cell_type": "code",
   "execution_count": 1,
   "id": "84e9e0ec-bcfb-47f9-98b0-e80f6e0bd353",
   "metadata": {},
   "outputs": [],
   "source": [
    "from sqlalchemy import create_engine, exc\n",
    "import pandas as pd\n",
    "from utils import *\n",
    "import datetime\n",
    "import config\n",
    "import time"
   ]
  },
  {
   "cell_type": "code",
   "execution_count": 2,
   "id": "43ef60fb-7009-40a7-8aea-9817f2f8b752",
   "metadata": {},
   "outputs": [],
   "source": [
    "## Glopal  variables\n",
    "months = config.MONTHS\n",
    "postgres = config.POSTGRS_CREDENTIALS\n",
    "data_cols = config.DATA_COLS\n",
    "dims = config.DWH_DIMS_FACTS"
   ]
  },
  {
   "cell_type": "code",
   "execution_count": 3,
   "id": "fe8bd2d7-ebed-4688-9eaf-d7433562192a",
   "metadata": {},
   "outputs": [],
   "source": [
    "## utils\n",
    "def select_dim(df, dims, dim_name):\n",
    "    \n",
    "    df_dim = df[dims[dim_name]]\n",
    "    df_dim = df_dim.drop_duplicates()\n",
    "    return df_dim\n",
    "\n",
    "\n",
    "def convert_to_neumeric(df,cols):\n",
    "    \n",
    "    for col in cols:\n",
    "        df[col] = pd.to_numeric(df[col], errors='coerce')\n",
    "    df[cols] = df[cols].fillna(0)\n",
    "    return df\n",
    "\n",
    "\n",
    "def convert_to_date(df,cols):\n",
    "    \n",
    "    default_date = pd.Timestamp('1900-01-01')\n",
    "    for col in cols:\n",
    "        df[col] = pd.to_datetime(df[col], errors='coerce')\n",
    "        df[col] = df[col].fillna(default_date)\n",
    "    return df\n",
    "\n",
    "\n",
    "def convert_to_string(df, cols):\n",
    "    \n",
    "    df[cols] = df[cols].fillna(\"N/A\").astype(str)\n",
    "    return df\n"
   ]
  },
  {
   "cell_type": "code",
   "execution_count": 4,
   "id": "2401f5e6-3d1e-4115-a178-a528caba1356",
   "metadata": {
    "scrolled": true
   },
   "outputs": [],
   "source": [
    "def extract_data(data_cols, months):\n",
    "    df_total = pd.DataFrame(columns=data_cols)\n",
    "    \n",
    "    for month in months:\n",
    "        path = f\"/home/jovyan/Data/{month}/listings (1).csv\"\n",
    "        df_source = pd.read_csv(path, low_memory=False)\n",
    "        df_source = df_source[data_cols].dropna(how='all')\n",
    "        df_total = pd.concat([df_total, df_source], axis=0, ignore_index=True)\n",
    "        print(f\">>>>>>> month {month} appended the dataframe\")\n",
    "        print(f\"Now the dataframe shape is {df_total.shape}\")\n",
    "\n",
    "    return df_total"
   ]
  },
  {
   "cell_type": "code",
   "execution_count": 18,
   "id": "fa6de565-c596-4aa7-b6d1-a9294be540d9",
   "metadata": {},
   "outputs": [],
   "source": [
    "def transform_data(df):\n",
    "    df[\"price\"] = df[[\"price\"]].replace({'\\$': '', ',': ''}, regex=True)\n",
    "    df = convert_to_neumeric(df, [\"host_id\",\"host_total_listings_count\", \"price\", \"accommodates\", \n",
    "                                              \"bathrooms\", \"bedrooms\", \"beds\", \"latitude\",\n",
    "                                              \"longitude\", \"maximum_nights\", \"minimum_nights\",\n",
    "                                              \"number_of_reviews\",\"availability_30\",\"availability_60\",\n",
    "                                              \"availability_90\",\"availability_365\"])\n",
    "    df = convert_to_string(df, [\"host_name\", \"host_url\", \"host_response_rate\",\n",
    "                                            \"host_verifications\", \"host_location\", \"neighbourhood\",\n",
    "                                            \"region_name\", \"region_parent_name\", \n",
    "                                            \"region_parent_parent_name\", \"property_type\", \n",
    "                                            \"room_type\"])\n",
    "    \n",
    "    df = convert_to_date(df, [\"host_since\", \"last_scraped\"])\n",
    "    df[\"uid\"] = range(1, len(df)+1)\n",
    "\n",
    "    return df"
   ]
  },
  {
   "cell_type": "code",
   "execution_count": 19,
   "id": "eb1caa64-b19c-4283-88be-2fedd240752a",
   "metadata": {},
   "outputs": [],
   "source": [
    "def transform_host_dim(df, dims):\n",
    "    dim_host = select_dim(df, dims, \"dim_host\")\n",
    "    # dim_host_df = dim_host.dropna(subset= [\"host_id\"])\n",
    "    dim_host = dim_host.rename(columns={\"uid\":\"listing_uid\"})\n",
    "    return dim_host"
   ]
  },
  {
   "cell_type": "code",
   "execution_count": 20,
   "id": "62b6cac8-4c85-40d5-9f58-b801c88b3a91",
   "metadata": {},
   "outputs": [],
   "source": [
    "def transform_location_dim(df, dims):\n",
    "    dim_location_df = select_dim(df_total, dims, \"dim_location\")\n",
    "    dim_location_df = dim_location_df.rename(columns={\"uid\":\"listing_uid\"})\n",
    "    return dim_location_df"
   ]
  },
  {
   "cell_type": "code",
   "execution_count": 21,
   "id": "0da3339d-c693-4c4e-8617-fcc70e8e6bb8",
   "metadata": {},
   "outputs": [],
   "source": [
    "def transform_property_dim(df, dims):\n",
    "    dim_property_df = select_dim(df, dims, \"dim_property\")\n",
    "    dim_property_df = dim_property_df.rename(columns={\"uid\":\"listing_uid\"})\n",
    "    return dim_property_df"
   ]
  },
  {
   "cell_type": "code",
   "execution_count": 22,
   "id": "487d799f-f76d-4fb9-8e85-1d363ef63037",
   "metadata": {},
   "outputs": [],
   "source": [
    "def transform_room_dim(df, dims):\n",
    "    dim_room_df = select_dim(df, dims, \"dim_room\")\n",
    "    dim_room_df = dim_room_df[~dim_room_df['room_type'].str.contains(r'^\\d+\\.?\\d*$', regex=True)].reset_index(drop = True)\n",
    "    dim_room_df = dim_room_df.rename(columns={\"uid\":\"listing_uid\"})\n",
    "    return dim_room_df\n"
   ]
  },
  {
   "cell_type": "code",
   "execution_count": 23,
   "id": "325c6119-c38b-4512-98ca-ae6ad84babea",
   "metadata": {},
   "outputs": [],
   "source": [
    "def extract_date_dim():\n",
    "    path = f\"/home/jovyan/Data/dimdates.csv\"\n",
    "    df_date = pd.read_csv(path, low_memory=False)\n",
    "    dim_date_df = convert_to_date(df_date, [\"Date\"])\n",
    "    dim_date_df = df_date[[\"Id\", \"Date\", \"DateShortDescription\", \"DayLongName\", \n",
    "                              \"MonthLongName\",\"CalendarDayInMonth\", \"CalendarMonth\",\n",
    "                              \"CalendarYear\",\"CalendarQuarter\",\"CalendarDay\",\"CalendarWeek\", \"CalendarDayInWeek\"]]\n",
    "    dim_date_df.columns = [col.lower() for col in dim_date_df.columns]\n",
    "    return dim_date_df"
   ]
  },
  {
   "cell_type": "code",
   "execution_count": 24,
   "id": "48e4ffc9-8766-4e11-be41-5ecb26ca7215",
   "metadata": {},
   "outputs": [],
   "source": [
    "def extract_fact_listings(df, dims):\n",
    "    df_fact = select_dim(df, dims, \"fact_listings\")\n",
    "    df_fact = df_fact.rename(columns={\"uid\":\"source_uid\"})\n",
    "    return df_fact "
   ]
  },
  {
   "cell_type": "markdown",
   "id": "3dd8b679-c9b4-4526-94c1-074e7d630020",
   "metadata": {},
   "source": [
    "## Data Extraction"
   ]
  },
  {
   "cell_type": "code",
   "execution_count": 25,
   "id": "c09a5e71-ab8e-4307-aa87-f1b173a69371",
   "metadata": {},
   "outputs": [
    {
     "name": "stderr",
     "output_type": "stream",
     "text": [
      "/tmp/ipykernel_23136/1804710694.py:8: FutureWarning: The behavior of DataFrame concatenation with empty or all-NA entries is deprecated. In a future version, this will no longer exclude empty or all-NA columns when determining the result dtypes. To retain the old behavior, exclude the relevant entries before the concat operation.\n",
      "  df_total = pd.concat([df_total, df_source], axis=0, ignore_index=True)\n"
     ]
    },
    {
     "name": "stdout",
     "output_type": "stream",
     "text": [
      ">>>>>>> month jan appended the dataframe\n",
      "Now the dataframe shape is (51221, 80)\n",
      ">>>>>>> month March appended the dataframe\n",
      "Now the dataframe shape is (96193, 80)\n",
      ">>>>>>> month November appended the dataframe\n",
      "Now the dataframe shape is (144409, 80)\n"
     ]
    }
   ],
   "source": [
    "df_total = extract_data(data_cols, months)"
   ]
  },
  {
   "cell_type": "markdown",
   "id": "56eaea6d-33cb-4c44-8936-afca71d443c2",
   "metadata": {},
   "source": [
    "## Data Transformation"
   ]
  },
  {
   "cell_type": "code",
   "execution_count": 26,
   "id": "b5af3783-1870-4b17-b615-d107ab57f510",
   "metadata": {},
   "outputs": [],
   "source": [
    "df_transformed = transform_data(df_total)"
   ]
  },
  {
   "cell_type": "code",
   "execution_count": 27,
   "id": "de770447-2361-48d0-9a78-cbecf5e4d636",
   "metadata": {},
   "outputs": [],
   "source": [
    "host_dim = transform_host_dim(df_transformed, dims)"
   ]
  },
  {
   "cell_type": "code",
   "execution_count": 28,
   "id": "c65e403a-a854-407b-ab4f-377ba7d6a3c7",
   "metadata": {},
   "outputs": [],
   "source": [
    "location_dim = transform_location_dim(df_transformed, dims)"
   ]
  },
  {
   "cell_type": "code",
   "execution_count": 29,
   "id": "b2bc2514-084c-4c4a-8227-ed12c65f7751",
   "metadata": {},
   "outputs": [],
   "source": [
    "property_dim = transform_property_dim(df_transformed, dims)"
   ]
  },
  {
   "cell_type": "code",
   "execution_count": 30,
   "id": "05479251-5c42-4aa9-8c1f-ef35f3866b01",
   "metadata": {},
   "outputs": [],
   "source": [
    "room_dim = transform_room_dim(df_transformed, dims)"
   ]
  },
  {
   "cell_type": "code",
   "execution_count": 31,
   "id": "131eee9d-98d7-4601-9c5c-6fa333a00d1b",
   "metadata": {},
   "outputs": [],
   "source": [
    "date_dim = extract_date_dim()"
   ]
  },
  {
   "cell_type": "code",
   "execution_count": 32,
   "id": "5b2e1582-9c83-40e0-a662-638d5ad609e4",
   "metadata": {},
   "outputs": [],
   "source": [
    "fact_listings = extract_fact_listings(df_transformed, dims)"
   ]
  },
  {
   "cell_type": "markdown",
   "id": "af9b62de-47df-4cc8-86ac-9911b48fd91a",
   "metadata": {},
   "source": [
    "## Data Loading"
   ]
  },
  {
   "cell_type": "code",
   "execution_count": 33,
   "id": "078345f6-6694-4795-8086-5d883af60123",
   "metadata": {},
   "outputs": [
    {
     "name": "stdout",
     "output_type": "stream",
     "text": [
      "succefuly connected to airBnB_DWH at host: pgdatabase\n"
     ]
    }
   ],
   "source": [
    "engine = connect_to_db(postgres)"
   ]
  },
  {
   "cell_type": "code",
   "execution_count": 38,
   "id": "c81cb370-0266-4028-ba7f-0d8063a622ce",
   "metadata": {
    "scrolled": true
   },
   "outputs": [
    {
     "name": "stdout",
     "output_type": "stream",
     "text": [
      "start writing data to fact_listings\n",
      "Data of 144409 record Successfully written to the fact_listings table\n",
      "the proccess toke 13.09923243522644 seconds\n"
     ]
    }
   ],
   "source": [
    "write_df_to_db(fact_listings, \"fact_listings\", engine)"
   ]
  },
  {
   "cell_type": "code",
   "execution_count": 39,
   "id": "1035aaa5-61ab-46b2-9b96-1070b27f7a05",
   "metadata": {
    "scrolled": true
   },
   "outputs": [
    {
     "name": "stdout",
     "output_type": "stream",
     "text": [
      "start writing data to dim_host\n",
      "Data of 144409 record Successfully written to the dim_host table\n",
      "the proccess toke 19.022583484649658 seconds\n"
     ]
    }
   ],
   "source": [
    "write_df_to_db(host_dim, \"dim_host\", engine)"
   ]
  },
  {
   "cell_type": "code",
   "execution_count": 40,
   "id": "49f10618-bc39-4597-9061-0d9547350875",
   "metadata": {},
   "outputs": [
    {
     "name": "stdout",
     "output_type": "stream",
     "text": [
      "start writing data to dim_location\n",
      "Data of 144409 record Successfully written to the dim_location table\n",
      "the proccess toke 11.220252752304077 seconds\n"
     ]
    }
   ],
   "source": [
    "write_df_to_db(location_dim, \"dim_location\", engine)"
   ]
  },
  {
   "cell_type": "code",
   "execution_count": 41,
   "id": "f0281ed9-0f9e-432a-b786-472923796737",
   "metadata": {},
   "outputs": [
    {
     "name": "stdout",
     "output_type": "stream",
     "text": [
      "start writing data to dim_property\n",
      "Data of 144409 record Successfully written to the dim_property table\n",
      "the proccess toke 3.2828822135925293 seconds\n"
     ]
    }
   ],
   "source": [
    "write_df_to_db(property_dim, \"dim_property\", engine)"
   ]
  },
  {
   "cell_type": "code",
   "execution_count": 42,
   "id": "f8275624-f7ef-4f63-8039-e4e92cfddd4a",
   "metadata": {
    "scrolled": true
   },
   "outputs": [
    {
     "name": "stdout",
     "output_type": "stream",
     "text": [
      "start writing data to dim_room\n",
      "Data of 144400 record Successfully written to the dim_room table\n",
      "the proccess toke 3.323991298675537 seconds\n"
     ]
    }
   ],
   "source": [
    "write_df_to_db(room_dim, \"dim_room\", engine)"
   ]
  },
  {
   "cell_type": "code",
   "execution_count": 57,
   "id": "3f68ed8b-c140-49d2-91d6-7f72f5ac303a",
   "metadata": {},
   "outputs": [
    {
     "name": "stdout",
     "output_type": "stream",
     "text": [
      "engine disposed and connection closed successfully\n"
     ]
    }
   ],
   "source": [
    "finalize_things(engine)"
   ]
  },
  {
   "cell_type": "code",
   "execution_count": null,
   "id": "ac255a93-8112-4967-be5b-003fa1c2f088",
   "metadata": {},
   "outputs": [],
   "source": []
  },
  {
   "cell_type": "code",
   "execution_count": 35,
   "id": "7b13db67-6b14-4916-8e9d-9e57f5faa5ed",
   "metadata": {},
   "outputs": [
    {
     "data": {
      "text/plain": [
       "source_uid                    int64\n",
       "price                       float64\n",
       "maximum_nights              float64\n",
       "minimum_nights              float64\n",
       "number_of_reviews           float64\n",
       "availability_30             float64\n",
       "availability_60             float64\n",
       "availability_90             float64\n",
       "availability_365            float64\n",
       "last_scraped         datetime64[ns]\n",
       "dtype: object"
      ]
     },
     "execution_count": 35,
     "metadata": {},
     "output_type": "execute_result"
    }
   ],
   "source": [
    "fact_listings.dtypes"
   ]
  },
  {
   "cell_type": "code",
   "execution_count": null,
   "id": "334fae51-c113-4fe9-bce9-449cc637f6d6",
   "metadata": {},
   "outputs": [],
   "source": []
  }
 ],
 "metadata": {
  "kernelspec": {
   "display_name": "Python 3 (ipykernel)",
   "language": "python",
   "name": "python3"
  },
  "language_info": {
   "codemirror_mode": {
    "name": "ipython",
    "version": 3
   },
   "file_extension": ".py",
   "mimetype": "text/x-python",
   "name": "python",
   "nbconvert_exporter": "python",
   "pygments_lexer": "ipython3",
   "version": "3.11.6"
  }
 },
 "nbformat": 4,
 "nbformat_minor": 5
}
